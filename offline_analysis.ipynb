{
 "cells": [
  {
   "cell_type": "markdown",
   "metadata": {
    "id": "GG9Iz_21DklD"
   },
   "source": [
    "# Imports"
   ]
  },
  {
   "cell_type": "code",
   "execution_count": null,
   "metadata": {
    "id": "mOfhOpIE6A-y"
   },
   "outputs": [],
   "source": [
    "from datetime import datetime\n",
    "import pandas as pd\n",
    "import math"
   ]
  },
  {
   "cell_type": "markdown",
   "metadata": {
    "id": "bpG01zcPDpBk"
   },
   "source": [
    "# Reading events into DataFrames"
   ]
  },
  {
   "cell_type": "code",
   "execution_count": null,
   "metadata": {
    "colab": {
     "base_uri": "https://localhost:8080/",
     "height": 231
    },
    "id": "JC96e9d_5Woy",
    "outputId": "dce4239c-5a53-40c4-9f87-b07d9981e6ee"
   },
   "outputs": [
    {
     "ename": "FileNotFoundError",
     "evalue": "ignored",
     "output_type": "error",
     "traceback": [
      "\u001b[0;31m---------------------------------------------------------------------------\u001b[0m",
      "\u001b[0;31mFileNotFoundError\u001b[0m                         Traceback (most recent call last)",
      "\u001b[0;32m<ipython-input-6-b61794f3a259>\u001b[0m in \u001b[0;36m<module>\u001b[0;34m()\u001b[0m\n\u001b[1;32m     13\u001b[0m \u001b[0mdisplays_content\u001b[0m \u001b[0;34m=\u001b[0m \u001b[0;34m[\u001b[0m\u001b[0;34m]\u001b[0m\u001b[0;34m\u001b[0m\u001b[0;34m\u001b[0m\u001b[0m\n\u001b[1;32m     14\u001b[0m \u001b[0mi\u001b[0m \u001b[0;34m=\u001b[0m \u001b[0;36m0\u001b[0m\u001b[0;34m\u001b[0m\u001b[0;34m\u001b[0m\u001b[0m\n\u001b[0;32m---> 15\u001b[0;31m \u001b[0;32mwith\u001b[0m \u001b[0mopen\u001b[0m\u001b[0;34m(\u001b[0m\u001b[0;34m'displays'\u001b[0m\u001b[0;34m,\u001b[0m \u001b[0;34m'r'\u001b[0m\u001b[0;34m)\u001b[0m \u001b[0;32mas\u001b[0m \u001b[0mf\u001b[0m\u001b[0;34m:\u001b[0m\u001b[0;34m\u001b[0m\u001b[0;34m\u001b[0m\u001b[0m\n\u001b[0m\u001b[1;32m     16\u001b[0m     \u001b[0;32mfor\u001b[0m \u001b[0mline\u001b[0m \u001b[0;32min\u001b[0m \u001b[0mf\u001b[0m\u001b[0;34m:\u001b[0m\u001b[0;34m\u001b[0m\u001b[0;34m\u001b[0m\u001b[0m\n\u001b[1;32m     17\u001b[0m         \u001b[0mdisplays_content\u001b[0m\u001b[0;34m.\u001b[0m\u001b[0mappend\u001b[0m\u001b[0;34m(\u001b[0m\u001b[0meval\u001b[0m\u001b[0;34m(\u001b[0m\u001b[0mline\u001b[0m\u001b[0;34m)\u001b[0m\u001b[0;34m)\u001b[0m\u001b[0;34m\u001b[0m\u001b[0;34m\u001b[0m\u001b[0m\n",
      "\u001b[0;31mFileNotFoundError\u001b[0m: [Errno 2] No such file or directory: 'displays'"
     ]
    }
   ],
   "source": [
    "nb_lines = math.inf\n",
    "\n",
    "clicks_content = []\n",
    "i = 0\n",
    "with open('lol', 'r') as f:\n",
    "    for line in f:\n",
    "        clicks_content.append(line.split(' ')[0])\n",
    "        i += 1\n",
    "        if i == nb_lines:\n",
    "            break\n",
    "\n",
    "\n",
    "displays_content = []\n",
    "i = 0\n",
    "with open('displays', 'r') as f:\n",
    "    for line in f:\n",
    "        displays_content.append(eval(line))\n",
    "        i += 1\n",
    "        if i == nb_lines:\n",
    "            break"
   ]
  },
  {
   "cell_type": "code",
   "execution_count": null,
   "metadata": {
    "colab": {
     "base_uri": "https://localhost:8080/"
    },
    "id": "0dp2fNSjPkgM",
    "outputId": "e8b717a4-fed3-4efd-c9c4-e7d733d9b293"
   },
   "outputs": [
    {
     "data": {
      "text/plain": [
       "50"
      ]
     },
     "execution_count": 10,
     "metadata": {
      "tags": []
     },
     "output_type": "execute_result"
    }
   ],
   "source": [
    "df_clicks = pd.DataFrame(clicks_content)\n",
    "len(df_clicks.groupby(0).count())"
   ]
  },
  {
   "cell_type": "code",
   "execution_count": null,
   "metadata": {
    "colab": {
     "base_uri": "https://localhost:8080/"
    },
    "id": "CL9O6H6FgVdZ",
    "outputId": "b7821157-5903-414f-d8f6-b55f2c43a3c0"
   },
   "outputs": [
    {
     "data": {
      "text/plain": [
       "datetime.datetime(1970, 1, 1, 0, 1, 6)"
      ]
     },
     "execution_count": 32,
     "metadata": {
      "tags": []
     },
     "output_type": "execute_result"
    }
   ],
   "source": [
    "# time elapsed\n",
    "\n",
    "datetime.fromtimestamp(df_clicks['timestamp'].max() - df_clicks['timestamp'].min())"
   ]
  },
  {
   "cell_type": "code",
   "execution_count": null,
   "metadata": {
    "colab": {
     "base_uri": "https://localhost:8080/",
     "height": 1000
    },
    "id": "TAt1QW5APxX7",
    "outputId": "6a84e0fe-1bd0-4a0b-fd5f-696ee813b9a3"
   },
   "outputs": [
    {
     "data": {
      "text/html": [
       "<div>\n",
       "<style scoped>\n",
       "    .dataframe tbody tr th:only-of-type {\n",
       "        vertical-align: middle;\n",
       "    }\n",
       "\n",
       "    .dataframe tbody tr th {\n",
       "        vertical-align: top;\n",
       "    }\n",
       "\n",
       "    .dataframe thead th {\n",
       "        text-align: right;\n",
       "    }\n",
       "</style>\n",
       "<table border=\"1\" class=\"dataframe\">\n",
       "  <thead>\n",
       "    <tr style=\"text-align: right;\">\n",
       "      <th></th>\n",
       "      <th>impressionId</th>\n",
       "      <th>ip</th>\n",
       "    </tr>\n",
       "    <tr>\n",
       "      <th>uid</th>\n",
       "      <th></th>\n",
       "      <th></th>\n",
       "    </tr>\n",
       "  </thead>\n",
       "  <tbody>\n",
       "    <tr>\n",
       "      <th>0a76e964-d82b-4f00-b1b7-68996ce8a943</th>\n",
       "      <td>4</td>\n",
       "      <td>4</td>\n",
       "    </tr>\n",
       "    <tr>\n",
       "      <th>22010cc5-e086-4e4d-83c7-b2ae880a7b0b</th>\n",
       "      <td>3</td>\n",
       "      <td>3</td>\n",
       "    </tr>\n",
       "    <tr>\n",
       "      <th>27cd09ad-2360-4e73-9de7-dec4ecc8d6cc</th>\n",
       "      <td>4</td>\n",
       "      <td>4</td>\n",
       "    </tr>\n",
       "    <tr>\n",
       "      <th>2e7b2be5-284c-4e66-a1d6-cbd2706acb7c</th>\n",
       "      <td>5</td>\n",
       "      <td>5</td>\n",
       "    </tr>\n",
       "    <tr>\n",
       "      <th>3410d0a8-4521-4120-bd3a-f0a6e5849c96</th>\n",
       "      <td>6</td>\n",
       "      <td>6</td>\n",
       "    </tr>\n",
       "    <tr>\n",
       "      <th>37149369-50ad-46e1-ab77-fe846cdc386b</th>\n",
       "      <td>7</td>\n",
       "      <td>7</td>\n",
       "    </tr>\n",
       "    <tr>\n",
       "      <th>41aabe85-25de-4bf7-818a-47ee5b054427</th>\n",
       "      <td>3</td>\n",
       "      <td>3</td>\n",
       "    </tr>\n",
       "    <tr>\n",
       "      <th>4442cb69-15dc-4d48-90ee-f61238113dd7</th>\n",
       "      <td>3</td>\n",
       "      <td>3</td>\n",
       "    </tr>\n",
       "    <tr>\n",
       "      <th>463e0972-63b8-488b-a138-aa64d78e8678</th>\n",
       "      <td>4</td>\n",
       "      <td>4</td>\n",
       "    </tr>\n",
       "    <tr>\n",
       "      <th>4eaf96a7-30c2-487b-af58-30e513e5b2a5</th>\n",
       "      <td>4</td>\n",
       "      <td>4</td>\n",
       "    </tr>\n",
       "    <tr>\n",
       "      <th>56796a20-37ea-49d9-b68c-b41f8a2adc5e</th>\n",
       "      <td>4</td>\n",
       "      <td>4</td>\n",
       "    </tr>\n",
       "    <tr>\n",
       "      <th>58b8d349-bc22-4205-ac0d-357edfe1de5f</th>\n",
       "      <td>3</td>\n",
       "      <td>3</td>\n",
       "    </tr>\n",
       "    <tr>\n",
       "      <th>5ccf4ac4-6657-4a41-86e6-83faf90fe24d</th>\n",
       "      <td>6</td>\n",
       "      <td>6</td>\n",
       "    </tr>\n",
       "    <tr>\n",
       "      <th>671f4561-51ec-4d00-8c09-095ae37829ea</th>\n",
       "      <td>8</td>\n",
       "      <td>8</td>\n",
       "    </tr>\n",
       "    <tr>\n",
       "      <th>72391974-5e0d-4fd0-948e-fa981d78caeb</th>\n",
       "      <td>8</td>\n",
       "      <td>8</td>\n",
       "    </tr>\n",
       "    <tr>\n",
       "      <th>740a8902-c18e-43e0-afc7-8d2f170613a1</th>\n",
       "      <td>7</td>\n",
       "      <td>7</td>\n",
       "    </tr>\n",
       "    <tr>\n",
       "      <th>763ada00-e61e-47f1-b530-cfe8bb699620</th>\n",
       "      <td>6</td>\n",
       "      <td>6</td>\n",
       "    </tr>\n",
       "    <tr>\n",
       "      <th>784a71c5-0c5b-4cb1-b96b-0abbe4e24160</th>\n",
       "      <td>4</td>\n",
       "      <td>4</td>\n",
       "    </tr>\n",
       "    <tr>\n",
       "      <th>7a3c90d5-7b2b-4fe7-a5a9-b12e5af056a9</th>\n",
       "      <td>4</td>\n",
       "      <td>4</td>\n",
       "    </tr>\n",
       "    <tr>\n",
       "      <th>7f98dd02-1359-4c59-b195-0556f93bcd15</th>\n",
       "      <td>4</td>\n",
       "      <td>4</td>\n",
       "    </tr>\n",
       "    <tr>\n",
       "      <th>80d34691-8bca-4ce9-9808-530f71b84381</th>\n",
       "      <td>6</td>\n",
       "      <td>6</td>\n",
       "    </tr>\n",
       "    <tr>\n",
       "      <th>933441eb-1a8b-4e31-b6bd-adda7c9f3217</th>\n",
       "      <td>8</td>\n",
       "      <td>8</td>\n",
       "    </tr>\n",
       "    <tr>\n",
       "      <th>9501aceb-90de-42f1-a607-2b597fcc3d06</th>\n",
       "      <td>6</td>\n",
       "      <td>6</td>\n",
       "    </tr>\n",
       "    <tr>\n",
       "      <th>950f8d62-4d7e-4097-ae77-7a6e225921da</th>\n",
       "      <td>8</td>\n",
       "      <td>8</td>\n",
       "    </tr>\n",
       "    <tr>\n",
       "      <th>9dbcd0a2-9539-4a20-801f-3c1f94c9b82b</th>\n",
       "      <td>7</td>\n",
       "      <td>7</td>\n",
       "    </tr>\n",
       "    <tr>\n",
       "      <th>a16e48c6-22d4-49e5-9503-f514d04d27c4</th>\n",
       "      <td>3</td>\n",
       "      <td>3</td>\n",
       "    </tr>\n",
       "    <tr>\n",
       "      <th>a1a58baf-35a0-4100-8bae-02d16ac17d3f</th>\n",
       "      <td>3</td>\n",
       "      <td>3</td>\n",
       "    </tr>\n",
       "    <tr>\n",
       "      <th>a9b04a0a-5945-461d-bc15-e09a7cf61ccb</th>\n",
       "      <td>3</td>\n",
       "      <td>3</td>\n",
       "    </tr>\n",
       "    <tr>\n",
       "      <th>aa74db3c-e7eb-4f62-af23-b611617e906f</th>\n",
       "      <td>3</td>\n",
       "      <td>3</td>\n",
       "    </tr>\n",
       "    <tr>\n",
       "      <th>ba626af8-5887-436b-82db-0e92d0211260</th>\n",
       "      <td>5</td>\n",
       "      <td>5</td>\n",
       "    </tr>\n",
       "    <tr>\n",
       "      <th>c38006f4-19ae-4b89-b2f2-663a4f38e7e8</th>\n",
       "      <td>3</td>\n",
       "      <td>3</td>\n",
       "    </tr>\n",
       "    <tr>\n",
       "      <th>c8315652-a398-4606-b285-4813e284fa57</th>\n",
       "      <td>4</td>\n",
       "      <td>4</td>\n",
       "    </tr>\n",
       "    <tr>\n",
       "      <th>cab8f428-316b-42db-9d5a-deddc0fb6c87</th>\n",
       "      <td>6</td>\n",
       "      <td>6</td>\n",
       "    </tr>\n",
       "    <tr>\n",
       "      <th>cba43c67-abfd-47e4-8b8f-37ce4808f3cc</th>\n",
       "      <td>4</td>\n",
       "      <td>4</td>\n",
       "    </tr>\n",
       "    <tr>\n",
       "      <th>cec3e3c4-cb14-4fbf-9d0f-0563e19b7ff0</th>\n",
       "      <td>5</td>\n",
       "      <td>5</td>\n",
       "    </tr>\n",
       "    <tr>\n",
       "      <th>d0c75bce-44e5-4216-91d5-0d1cd2fc3443</th>\n",
       "      <td>3</td>\n",
       "      <td>3</td>\n",
       "    </tr>\n",
       "    <tr>\n",
       "      <th>e3bac5c3-56b0-4629-89bc-9c50f5d44696</th>\n",
       "      <td>4</td>\n",
       "      <td>4</td>\n",
       "    </tr>\n",
       "    <tr>\n",
       "      <th>e4c62649-c164-4db4-b5ac-8d2988412ca7</th>\n",
       "      <td>8</td>\n",
       "      <td>8</td>\n",
       "    </tr>\n",
       "    <tr>\n",
       "      <th>ea738b25-93c8-4c11-9dd9-db460ca6cca4</th>\n",
       "      <td>5</td>\n",
       "      <td>5</td>\n",
       "    </tr>\n",
       "    <tr>\n",
       "      <th>ed84972d-fe94-4cd1-84d5-d68f58cb8402</th>\n",
       "      <td>3</td>\n",
       "      <td>3</td>\n",
       "    </tr>\n",
       "    <tr>\n",
       "      <th>f905e113-a6b0-4df6-af82-a22a27c83e3d</th>\n",
       "      <td>3</td>\n",
       "      <td>3</td>\n",
       "    </tr>\n",
       "    <tr>\n",
       "      <th>fedb5569-9781-4323-b508-cd2a4bf76dea</th>\n",
       "      <td>3</td>\n",
       "      <td>3</td>\n",
       "    </tr>\n",
       "    <tr>\n",
       "      <th>ffd14478-a92c-44fd-acb2-527a6d7b9881</th>\n",
       "      <td>3</td>\n",
       "      <td>3</td>\n",
       "    </tr>\n",
       "  </tbody>\n",
       "</table>\n",
       "</div>"
      ],
      "text/plain": [
       "                                      impressionId  ip\n",
       "uid                                                   \n",
       "0a76e964-d82b-4f00-b1b7-68996ce8a943             4   4\n",
       "22010cc5-e086-4e4d-83c7-b2ae880a7b0b             3   3\n",
       "27cd09ad-2360-4e73-9de7-dec4ecc8d6cc             4   4\n",
       "2e7b2be5-284c-4e66-a1d6-cbd2706acb7c             5   5\n",
       "3410d0a8-4521-4120-bd3a-f0a6e5849c96             6   6\n",
       "37149369-50ad-46e1-ab77-fe846cdc386b             7   7\n",
       "41aabe85-25de-4bf7-818a-47ee5b054427             3   3\n",
       "4442cb69-15dc-4d48-90ee-f61238113dd7             3   3\n",
       "463e0972-63b8-488b-a138-aa64d78e8678             4   4\n",
       "4eaf96a7-30c2-487b-af58-30e513e5b2a5             4   4\n",
       "56796a20-37ea-49d9-b68c-b41f8a2adc5e             4   4\n",
       "58b8d349-bc22-4205-ac0d-357edfe1de5f             3   3\n",
       "5ccf4ac4-6657-4a41-86e6-83faf90fe24d             6   6\n",
       "671f4561-51ec-4d00-8c09-095ae37829ea             8   8\n",
       "72391974-5e0d-4fd0-948e-fa981d78caeb             8   8\n",
       "740a8902-c18e-43e0-afc7-8d2f170613a1             7   7\n",
       "763ada00-e61e-47f1-b530-cfe8bb699620             6   6\n",
       "784a71c5-0c5b-4cb1-b96b-0abbe4e24160             4   4\n",
       "7a3c90d5-7b2b-4fe7-a5a9-b12e5af056a9             4   4\n",
       "7f98dd02-1359-4c59-b195-0556f93bcd15             4   4\n",
       "80d34691-8bca-4ce9-9808-530f71b84381             6   6\n",
       "933441eb-1a8b-4e31-b6bd-adda7c9f3217             8   8\n",
       "9501aceb-90de-42f1-a607-2b597fcc3d06             6   6\n",
       "950f8d62-4d7e-4097-ae77-7a6e225921da             8   8\n",
       "9dbcd0a2-9539-4a20-801f-3c1f94c9b82b             7   7\n",
       "a16e48c6-22d4-49e5-9503-f514d04d27c4             3   3\n",
       "a1a58baf-35a0-4100-8bae-02d16ac17d3f             3   3\n",
       "a9b04a0a-5945-461d-bc15-e09a7cf61ccb             3   3\n",
       "aa74db3c-e7eb-4f62-af23-b611617e906f             3   3\n",
       "ba626af8-5887-436b-82db-0e92d0211260             5   5\n",
       "c38006f4-19ae-4b89-b2f2-663a4f38e7e8             3   3\n",
       "c8315652-a398-4606-b285-4813e284fa57             4   4\n",
       "cab8f428-316b-42db-9d5a-deddc0fb6c87             6   6\n",
       "cba43c67-abfd-47e4-8b8f-37ce4808f3cc             4   4\n",
       "cec3e3c4-cb14-4fbf-9d0f-0563e19b7ff0             5   5\n",
       "d0c75bce-44e5-4216-91d5-0d1cd2fc3443             3   3\n",
       "e3bac5c3-56b0-4629-89bc-9c50f5d44696             4   4\n",
       "e4c62649-c164-4db4-b5ac-8d2988412ca7             8   8\n",
       "ea738b25-93c8-4c11-9dd9-db460ca6cca4             5   5\n",
       "ed84972d-fe94-4cd1-84d5-d68f58cb8402             3   3\n",
       "f905e113-a6b0-4df6-af82-a22a27c83e3d             3   3\n",
       "fedb5569-9781-4323-b508-cd2a4bf76dea             3   3\n",
       "ffd14478-a92c-44fd-acb2-527a6d7b9881             3   3"
      ]
     },
     "execution_count": 33,
     "metadata": {
      "tags": []
     },
     "output_type": "execute_result"
    }
   ],
   "source": [
    "# Too many IPs per user\n",
    "\n",
    "a = df_clicks.groupby(['uid']).count()[['impressionId', 'ip']]\n",
    "a[a['impressionId'] > 2]"
   ]
  },
  {
   "cell_type": "code",
   "execution_count": null,
   "metadata": {
    "id": "H9jcDvsUi3k8"
   },
   "outputs": [],
   "source": [
    "#convert timestamps to windows\n",
    "\n",
    "window_size = 2 #seconds\n",
    "df_clicks['time_window'] = df_clicks['timestamp'] // window_size"
   ]
  },
  {
   "cell_type": "code",
   "execution_count": null,
   "metadata": {
    "id": "UkzX43oj9UYx"
   },
   "outputs": [],
   "source": [
    "df_windows = df_clicks.groupby(['uid', 'timewindow']).count()\n",
    "df_windows[df_windows['impressionId'] > 2]"
   ]
  },
  {
   "cell_type": "code",
   "execution_count": null,
   "metadata": {
    "id": "yDi81prELft4"
   },
   "outputs": [],
   "source": [
    "df_clicks[df_clicks['ip'] == '238.186.83.58'].groupby('uid')"
   ]
  },
  {
   "cell_type": "code",
   "execution_count": null,
   "metadata": {
    "id": "UV_ZMAINIbyk"
   },
   "outputs": [],
   "source": [
    "print(len(df_clicks['impressionId']))\n",
    "print(len(pd.unique(df_clicks['impressionId'])))"
   ]
  },
  {
   "cell_type": "code",
   "execution_count": null,
   "metadata": {
    "id": "cJx_J8Oo9cIq"
   },
   "outputs": [],
   "source": [
    "df_displays = pd.DataFrame(displays_content)\n",
    "df_displays"
   ]
  },
  {
   "cell_type": "code",
   "execution_count": null,
   "metadata": {
    "id": "dB-pYpgAPG9C"
   },
   "outputs": [],
   "source": [
    "# df_displays_renamed = df_displays.rename(columns={'uid' : 'uid_display', 'ip' : 'ip_display', 'impressionId' : 'impressionId_display', 'timestamp' : 'timestamp_display'})\n",
    "df_displays_renamed = df_displays.rename(columns={'ip' : 'ip_display', 'timestamp' : 'timestamp_display'})\n",
    "df_displays_renamed = df_displays_renamed.drop('eventType', axis=1)"
   ]
  },
  {
   "cell_type": "code",
   "execution_count": null,
   "metadata": {
    "id": "YQRJ3h1MRBwy"
   },
   "outputs": [],
   "source": [
    "df_joined = pd.merge(df_displays_renamed, df_clicks, on=['uid', 'impressionId'])\n",
    "df_joined"
   ]
  },
  {
   "cell_type": "code",
   "execution_count": null,
   "metadata": {
    "id": "joLSubexSHE_"
   },
   "outputs": [],
   "source": [
    "ids_df_joined = df_joined[['uid', 'impressionId']]\n",
    "ids_df_joined\n",
    "i2 = ids_df_joined.set_index(['uid', 'impressionId']).index\n",
    "i1 = df_clicks.set_index(['uid', 'impressionId']).index"
   ]
  },
  {
   "cell_type": "code",
   "execution_count": null,
   "metadata": {
    "id": "PWqDlMcES-tU"
   },
   "outputs": [],
   "source": [
    "df_clicks[~i1.isin(i2)]"
   ]
  },
  {
   "cell_type": "code",
   "execution_count": null,
   "metadata": {
    "id": "HTLxMM4lWASE"
   },
   "outputs": [],
   "source": [
    "a = df_clicks[df_clicks['uid'] == '57e9e910-07e8-4157-8120-59e269b7e503']\n",
    "b = a[a['impressionId'] == 'ab2cc313-6fa5-42fe-9622-efd33214b5b9']\n",
    "b"
   ]
  },
  {
   "cell_type": "code",
   "execution_count": null,
   "metadata": {
    "id": "4S0JhXYPVTMj"
   },
   "outputs": [],
   "source": [
    "df1 = pd.DataFrame({'c': ['A', 'A', 'B', 'C', 'C'],\n",
    "                    'k': [1, 2, 2, 2, 2],\n",
    "                    'l': ['a', 'b', 'a', 'a', 'd']})\n",
    "df2 = pd.DataFrame({'c': ['A', 'C'],\n",
    "                    'l': ['b', 'a']})\n",
    "keys = list(df2.columns.values)\n",
    "i1 = df1.set_index(keys).index\n",
    "i2 = df2.set_index(keys).index\n",
    "df1[~i1.isin(i2)]"
   ]
  },
  {
   "cell_type": "code",
   "execution_count": null,
   "metadata": {
    "id": "g7EbzYQ_zh9c"
   },
   "outputs": [],
   "source": [
    "a = df_clicks.groupby(['ip']).count()\n",
    "a[a['eventType'] > 3]"
   ]
  },
  {
   "cell_type": "code",
   "execution_count": null,
   "metadata": {
    "id": "0XKhSs2IIFsm"
   },
   "outputs": [],
   "source": [
    "print(len(df_clicks['impressionId'])/ len(df_displays['impressionId']))"
   ]
  },
  {
   "cell_type": "code",
   "execution_count": null,
   "metadata": {
    "id": "_SYQVvPj_PWh"
   },
   "outputs": [],
   "source": [
    "df"
   ]
  },
  {
   "cell_type": "code",
   "execution_count": null,
   "metadata": {
    "id": "4loSzS4t9iCc"
   },
   "outputs": [],
   "source": [
    "df = pd.concat([df_displays, df_clicks])\n",
    "\n",
    "topic_df = pd.get_dummies(df['eventType'])\n",
    "df = df.drop('eventType', axis=1)\n",
    "final_df = df.join(topic_df)\n",
    "final_df = final_df.groupby('impressionId').count()\n",
    "final_df['click_through_rate'] = final_df['click'] / final_df['display']\n",
    "final_df"
   ]
  },
  {
   "cell_type": "code",
   "execution_count": null,
   "metadata": {
    "id": "TZXi7pBzDOgy"
   },
   "outputs": [],
   "source": [
    "df = pd.concat([df_displays, df_clicks])\n",
    "df.groupby(['impressionId', 'eventType']).count()"
   ]
  },
  {
   "cell_type": "code",
   "execution_count": null,
   "metadata": {
    "id": "x07kIxmF4Qpg"
   },
   "outputs": [],
   "source": [
    "from datetime import datetime\n",
    "\n",
    "datetime.fromtimestamp(1624772985)"
   ]
  },
  {
   "cell_type": "code",
   "execution_count": null,
   "metadata": {
    "id": "SXlEBL4E1M-5"
   },
   "outputs": [],
   "source": [
    "from collections import Set\n",
    "\n",
    "l= []\n",
    "with open('too_many_ips', 'r') as f:\n",
    "    for line in f:\n",
    "        l.append(line.split(',')[1])"
   ]
  },
  {
   "cell_type": "code",
   "execution_count": null,
   "metadata": {
    "colab": {
     "base_uri": "https://localhost:8080/"
    },
    "id": "2NohbVow2GPt",
    "outputId": "fb21d939-683a-4b5b-d7b2-100e16ea1e75"
   },
   "outputs": [
    {
     "data": {
      "text/plain": [
       "50"
      ]
     },
     "execution_count": 14,
     "metadata": {
      "tags": []
     },
     "output_type": "execute_result"
    }
   ],
   "source": [
    "len(set(l))"
   ]
  },
  {
   "cell_type": "code",
   "execution_count": 9,
   "metadata": {},
   "outputs": [],
   "source": [
    "lines = []\n",
    "with open('CTR_UID_POST_PROCESSING', 'r') as f:\n",
    "    for line in f:\n",
    "        lines.append(float(line))"
   ]
  },
  {
   "cell_type": "code",
   "execution_count": 10,
   "metadata": {},
   "outputs": [
    {
     "name": "stdout",
     "output_type": "stream",
     "text": [
      "0.15373411976811657\n"
     ]
    }
   ],
   "source": [
    "import math\n",
    "\n",
    "print(sum(lines) / len(lines))"
   ]
  }
 ],
 "metadata": {
  "colab": {
   "collapsed_sections": [],
   "name": "Untitled2.ipynb",
   "provenance": []
  },
  "kernelspec": {
   "display_name": "Python 3",
   "language": "python",
   "name": "python3"
  },
  "language_info": {
   "codemirror_mode": {
    "name": "ipython",
    "version": 3
   },
   "file_extension": ".py",
   "mimetype": "text/x-python",
   "name": "python",
   "nbconvert_exporter": "python",
   "pygments_lexer": "ipython3",
   "version": "3.8.10"
  }
 },
 "nbformat": 4,
 "nbformat_minor": 4
}
